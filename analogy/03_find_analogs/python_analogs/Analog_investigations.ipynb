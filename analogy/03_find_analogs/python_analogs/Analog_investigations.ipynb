{
 "cells": [
  {
   "cell_type": "markdown",
   "metadata": {},
   "source": [
    "# import libraries"
   ]
  },
  {
   "cell_type": "code",
   "execution_count": 13,
   "metadata": {},
   "outputs": [],
   "source": [
    "# basic libraries\n",
    "\n",
    "import numpy as np\n",
    "import pandas as pd\n",
    "from sklearn.covariance import EmpiricalCovariance, MinCovDet\n",
    "import sklearn.covariance\n",
    "from scipy.spatial import distance\n",
    "import sklearn\n",
    "from sklearn import preprocessing\n",
    "from sklearn.preprocessing import StandardScaler\n",
    "from sklearn.decomposition import PCA\n",
    "\n",
    "# plotting stuff\n",
    "import matplotlib.pyplot as plt\n",
    "import matplotlib as mpl\n",
    "import collections\n",
    "import seaborn as sb\n",
    "from matplotlib.pylab import rcParams\n",
    "rcParams['figure.figsize'] = 8, 6\n",
    "\n",
    "import warnings"
   ]
  },
  {
   "cell_type": "markdown",
   "metadata": {},
   "source": [
    "# Define directories"
   ]
  },
  {
   "cell_type": "code",
   "execution_count": 2,
   "metadata": {},
   "outputs": [],
   "source": [
    "in_dir = \"/Users/hn/Desktop/Desktop/Kirti/check_point/analogs/\"\n",
    "out_dir = \"/Users/hn/Desktop/\""
   ]
  },
  {
   "cell_type": "markdown",
   "metadata": {},
   "source": [
    "# Read data"
   ]
  },
  {
   "cell_type": "code",
   "execution_count": 3,
   "metadata": {},
   "outputs": [
    {
     "data": {
      "text/html": [
       "<div>\n",
       "<style scoped>\n",
       "    .dataframe tbody tr th:only-of-type {\n",
       "        vertical-align: middle;\n",
       "    }\n",
       "\n",
       "    .dataframe tbody tr th {\n",
       "        vertical-align: top;\n",
       "    }\n",
       "\n",
       "    .dataframe thead th {\n",
       "        text-align: right;\n",
       "    }\n",
       "</style>\n",
       "<table border=\"1\" class=\"dataframe\">\n",
       "  <thead>\n",
       "    <tr style=\"text-align: right;\">\n",
       "      <th></th>\n",
       "      <th>year</th>\n",
       "      <th>location</th>\n",
       "      <th>medianDoY</th>\n",
       "      <th>NumLarvaGens_Aug</th>\n",
       "      <th>mean_escaped_Gen1</th>\n",
       "      <th>mean_escaped_Gen2</th>\n",
       "      <th>mean_escaped_Gen3</th>\n",
       "      <th>mean_escaped_Gen4</th>\n",
       "      <th>mean_precip</th>\n",
       "      <th>mean_gdd</th>\n",
       "      <th>treatment</th>\n",
       "      <th>ClimateScenario</th>\n",
       "    </tr>\n",
       "  </thead>\n",
       "  <tbody>\n",
       "    <tr>\n",
       "      <th>0</th>\n",
       "      <td>1979</td>\n",
       "      <td>32.46875_-109.90625</td>\n",
       "      <td>68</td>\n",
       "      <td>2.939262</td>\n",
       "      <td>1.319697</td>\n",
       "      <td>7.080458</td>\n",
       "      <td>1.348167</td>\n",
       "      <td>0.0</td>\n",
       "      <td>300.525</td>\n",
       "      <td>4821.668922</td>\n",
       "      <td>0</td>\n",
       "      <td>observed</td>\n",
       "    </tr>\n",
       "    <tr>\n",
       "      <th>1</th>\n",
       "      <td>1979</td>\n",
       "      <td>32.46875_-109.96875</td>\n",
       "      <td>68</td>\n",
       "      <td>2.946050</td>\n",
       "      <td>1.245847</td>\n",
       "      <td>7.104994</td>\n",
       "      <td>1.396980</td>\n",
       "      <td>0.0</td>\n",
       "      <td>303.925</td>\n",
       "      <td>4831.770062</td>\n",
       "      <td>0</td>\n",
       "      <td>observed</td>\n",
       "    </tr>\n",
       "  </tbody>\n",
       "</table>\n",
       "</div>"
      ],
      "text/plain": [
       "   year             location  medianDoY  NumLarvaGens_Aug  mean_escaped_Gen1  \\\n",
       "0  1979  32.46875_-109.90625         68          2.939262           1.319697   \n",
       "1  1979  32.46875_-109.96875         68          2.946050           1.245847   \n",
       "\n",
       "   mean_escaped_Gen2  mean_escaped_Gen3  mean_escaped_Gen4  mean_precip  \\\n",
       "0           7.080458           1.348167                0.0      300.525   \n",
       "1           7.104994           1.396980                0.0      303.925   \n",
       "\n",
       "      mean_gdd  treatment ClimateScenario  \n",
       "0  4821.668922          0        observed  \n",
       "1  4831.770062          0        observed  "
      ]
     },
     "execution_count": 3,
     "metadata": {},
     "output_type": "execute_result"
    }
   ],
   "source": [
    "all_data_usa = pd.read_csv(in_dir + \"all_data_usa.csv\")\n",
    "all_data_usa.head(2)"
   ]
  },
  {
   "cell_type": "markdown",
   "metadata": {},
   "source": [
    "# Take numerical part of data\n",
    "i.e. drop the string columns indication years, locations, etc."
   ]
  },
  {
   "cell_type": "code",
   "execution_count": 4,
   "metadata": {},
   "outputs": [
    {
     "name": "stdout",
     "output_type": "stream",
     "text": [
      "['year', 'location', 'medianDoY', 'NumLarvaGens_Aug', 'mean_escaped_Gen1', 'mean_escaped_Gen2', 'mean_escaped_Gen3', 'mean_escaped_Gen4', 'mean_precip', 'mean_gdd', 'treatment', 'ClimateScenario']\n"
     ]
    }
   ],
   "source": [
    "print(list(all_data_usa)) # print makes it horizontal"
   ]
  },
  {
   "cell_type": "code",
   "execution_count": 5,
   "metadata": {},
   "outputs": [],
   "source": [
    "numeric_feat = ['medianDoY', 'NumLarvaGens_Aug', 'mean_escaped_Gen1', 'mean_escaped_Gen2',\n",
    "                'mean_escaped_Gen3', 'mean_escaped_Gen4', 'mean_precip', 'mean_gdd']\n",
    "all_usa_numeric = all_data_usa.loc[:, numeric_feat].copy()"
   ]
  },
  {
   "cell_type": "code",
   "execution_count": 6,
   "metadata": {},
   "outputs": [
    {
     "data": {
      "text/html": [
       "<div>\n",
       "<style scoped>\n",
       "    .dataframe tbody tr th:only-of-type {\n",
       "        vertical-align: middle;\n",
       "    }\n",
       "\n",
       "    .dataframe tbody tr th {\n",
       "        vertical-align: top;\n",
       "    }\n",
       "\n",
       "    .dataframe thead th {\n",
       "        text-align: right;\n",
       "    }\n",
       "</style>\n",
       "<table border=\"1\" class=\"dataframe\">\n",
       "  <thead>\n",
       "    <tr style=\"text-align: right;\">\n",
       "      <th></th>\n",
       "      <th>medianDoY</th>\n",
       "      <th>NumLarvaGens_Aug</th>\n",
       "      <th>mean_escaped_Gen1</th>\n",
       "      <th>mean_escaped_Gen2</th>\n",
       "      <th>mean_escaped_Gen3</th>\n",
       "      <th>mean_escaped_Gen4</th>\n",
       "      <th>mean_precip</th>\n",
       "      <th>mean_gdd</th>\n",
       "    </tr>\n",
       "  </thead>\n",
       "  <tbody>\n",
       "    <tr>\n",
       "      <th>0</th>\n",
       "      <td>68</td>\n",
       "      <td>2.939262</td>\n",
       "      <td>1.319697</td>\n",
       "      <td>7.080458</td>\n",
       "      <td>1.348167</td>\n",
       "      <td>0.0</td>\n",
       "      <td>300.525</td>\n",
       "      <td>4821.668922</td>\n",
       "    </tr>\n",
       "    <tr>\n",
       "      <th>1</th>\n",
       "      <td>68</td>\n",
       "      <td>2.946050</td>\n",
       "      <td>1.245847</td>\n",
       "      <td>7.104994</td>\n",
       "      <td>1.396980</td>\n",
       "      <td>0.0</td>\n",
       "      <td>303.925</td>\n",
       "      <td>4831.770062</td>\n",
       "    </tr>\n",
       "  </tbody>\n",
       "</table>\n",
       "</div>"
      ],
      "text/plain": [
       "   medianDoY  NumLarvaGens_Aug  mean_escaped_Gen1  mean_escaped_Gen2  \\\n",
       "0         68          2.939262           1.319697           7.080458   \n",
       "1         68          2.946050           1.245847           7.104994   \n",
       "\n",
       "   mean_escaped_Gen3  mean_escaped_Gen4  mean_precip     mean_gdd  \n",
       "0           1.348167                0.0      300.525  4821.668922  \n",
       "1           1.396980                0.0      303.925  4831.770062  "
      ]
     },
     "execution_count": 6,
     "metadata": {},
     "output_type": "execute_result"
    }
   ],
   "source": [
    "all_usa_numeric.head(2)"
   ]
  },
  {
   "cell_type": "code",
   "execution_count": 7,
   "metadata": {},
   "outputs": [],
   "source": [
    "# compute correlation matrix\n",
    "corr_Mat = all_usa_numeric.corr()"
   ]
  },
  {
   "cell_type": "markdown",
   "metadata": {},
   "source": [
    "plt.matshow(corr_Mat)\n",
    "plt.show()"
   ]
  },
  {
   "cell_type": "code",
   "execution_count": 8,
   "metadata": {},
   "outputs": [
    {
     "data": {
      "image/png": "[encoded data removed]",
      "text/plain": [
       "<Figure size 720x360 with 2 Axes>"
      ]
     },
     "metadata": {},
     "output_type": "display_data"
    }
   ],
   "source": [
    "mask = np.array(corr_Mat)\n",
    "mask[np.tril_indices_from(mask)] = False\n",
    "fig,ax= plt.subplots()\n",
    "fig.set_size_inches(10,5)\n",
    "\n",
    "# the following line can be added to the plot command\n",
    "# .set_xticklabels(ax.get_xticklabels(), rotation=70) # , vmax=.8\n",
    "sb.heatmap(corr_Mat, mask=mask, annot=True, square=True); "
   ]
  },
  {
   "cell_type": "code",
   "execution_count": null,
   "metadata": {},
   "outputs": [],
   "source": [
    "corr_Mat"
   ]
  },
  {
   "cell_type": "code",
   "execution_count": null,
   "metadata": {},
   "outputs": [],
   "source": [
    "print (\"condition number of the correlation matrix is {:0.2f}.\".format(np.linalg.cond(corr_Mat.values)))\n",
    "corr_Mat_inv = pd.DataFrame(np.linalg.pinv(corr_Mat.values), corr_Mat.columns, corr_Mat.index)\n",
    "corr_Mat_inv"
   ]
  },
  {
   "cell_type": "markdown",
   "metadata": {},
   "source": [
    "# Drop the mean_gdd\n",
    "The mean_gdd has high correlation with other features, lets drop it and see how it goes"
   ]
  },
  {
   "cell_type": "code",
   "execution_count": null,
   "metadata": {},
   "outputs": [],
   "source": [
    "numeric_feat = ['medianDoY', 'NumLarvaGens_Aug', 'mean_escaped_Gen1', 'mean_escaped_Gen2',\n",
    "                'mean_escaped_Gen3', 'mean_escaped_Gen4', 'mean_precip']\n",
    "\n",
    "all_usa_numeric = all_data_usa.loc[:, numeric_feat].copy()\n",
    "corr_Mat = all_usa_numeric.corr()"
   ]
  },
  {
   "cell_type": "code",
   "execution_count": null,
   "metadata": {},
   "outputs": [],
   "source": [
    "corr_Mat"
   ]
  },
  {
   "cell_type": "markdown",
   "metadata": {},
   "source": [
    "# Standerdize, mian_max normalize\n",
    "\n",
    "Scaling, standardizing, the data is already in the definition of correlation, so, scaling would not help that."
   ]
  },
  {
   "cell_type": "markdown",
   "metadata": {},
   "source": [
    "### standardize:"
   ]
  },
  {
   "cell_type": "markdown",
   "metadata": {},
   "source": [
    "numeric_feat = ['medianDoY', 'NumLarvaGens_Aug', 'mean_escaped_Gen1', 'mean_escaped_Gen2',\n",
    "            'mean_escaped_Gen3', 'mean_escaped_Gen4', 'mean_precip', 'mean_gdd']\n",
    "all_usa_numeric = all_data_usa.loc[:, numeric_feat].copy()\n",
    "\n",
    "# standardize\n",
    "all_usa_numeric = StandardScaler().fit_transform(all_usa_numeric)\n",
    "\n",
    "# convert back to dataframe\n",
    "all_usa_numeric = pd.DataFrame(data=all_usa_numeric, columns=features)\n",
    "all_usa_numeric.head(2)\n",
    "\n",
    "###############################################################\n",
    "\n",
    "corr_Mat = all_usa_numeric.corr()\n",
    "mask = np.array(corr_Mat)\n",
    "mask[np.tril_indices_from(mask)] = False\n",
    "fig,ax= plt.subplots()\n",
    "fig.set_size_inches(10,5)\n",
    "sb.heatmap(corr_Mat, mask=mask, annot=True, square=True); \n",
    "###############################################################\n",
    "\n",
    "### min max scaling\n",
    "\n",
    "numeric_feat = ['medianDoY', 'NumLarvaGens_Aug', 'mean_escaped_Gen1', 'mean_escaped_Gen2',\n",
    "            'mean_escaped_Gen3', 'mean_escaped_Gen4', 'mean_precip', 'mean_gdd']\n",
    "\n",
    "all_usa_numeric = all_data_usa.loc[:, numeric_feat].copy()\n",
    "\n",
    "x = all_usa_numeric.values\n",
    "min_max_scaler = preprocessing.MinMaxScaler()\n",
    "x_scaled = min_max_scaler.fit_transform(x)\n",
    "normalized_dt = pd.DataFrame(x_scaled, columns = numeric_feat)\n",
    "normalized_dt.tail(2)\n",
    "\n",
    "corr_Mat = all_usa_numeric.corr()\n",
    "mask = np.array(corr_Mat)\n",
    "mask[np.tril_indices_from(mask)] = False\n",
    "fig,ax= plt.subplots()\n",
    "fig.set_size_inches(10,5)\n",
    "sb.heatmap(corr_Mat, mask=mask, annot=True, square=True); "
   ]
  },
  {
   "cell_type": "markdown",
   "metadata": {},
   "source": [
    "# Apply PCA"
   ]
  },
  {
   "cell_type": "code",
   "execution_count": null,
   "metadata": {},
   "outputs": [],
   "source": [
    "numeric_feat = ['medianDoY', 'NumLarvaGens_Aug', 'mean_escaped_Gen1', 'mean_escaped_Gen2',\n",
    "            'mean_escaped_Gen3', 'mean_escaped_Gen4', 'mean_precip', 'mean_gdd']\n",
    "\n",
    "all_usa_numeric = all_data_usa.loc[:, numeric_feat].copy()\n",
    "all_usa_numeric.head(2)"
   ]
  },
  {
   "cell_type": "code",
   "execution_count": null,
   "metadata": {},
   "outputs": [],
   "source": [
    "## min_max scaling\n",
    "\n",
    "all_usa_numeric = all_usa_numeric.values\n",
    "min_max_scaler = preprocessing.MinMaxScaler()\n",
    "all_usa_scaled = min_max_scaler.fit_transform(all_usa_numeric)\n",
    "all_usa_scaled = pd.DataFrame(all_usa_scaled, columns=numeric_feat)\n",
    "all_usa_scaled.head(2)\n",
    "\n",
    "pca = PCA(n_components=2)\n",
    "principal_components = pca.fit_transform(all_usa_scaled)\n",
    "\n",
    "principal_Df = pd.DataFrame(data = principal_components, columns = ['principal component 1', 'principal component 2'])\n",
    "principal_Df.head(2)"
   ]
  },
  {
   "cell_type": "code",
   "execution_count": 11,
   "metadata": {},
   "outputs": [
    {
     "data": {
      "text/html": [
       "<div>\n",
       "<style scoped>\n",
       "    .dataframe tbody tr th:only-of-type {\n",
       "        vertical-align: middle;\n",
       "    }\n",
       "\n",
       "    .dataframe tbody tr th {\n",
       "        vertical-align: top;\n",
       "    }\n",
       "\n",
       "    .dataframe thead th {\n",
       "        text-align: right;\n",
       "    }\n",
       "</style>\n",
       "<table border=\"1\" class=\"dataframe\">\n",
       "  <thead>\n",
       "    <tr style=\"text-align: right;\">\n",
       "      <th></th>\n",
       "      <th>year</th>\n",
       "      <th>location</th>\n",
       "      <th>medianDoY</th>\n",
       "      <th>NumLarvaGens_Aug</th>\n",
       "      <th>mean_escaped_Gen1</th>\n",
       "      <th>mean_escaped_Gen2</th>\n",
       "      <th>mean_escaped_Gen3</th>\n",
       "      <th>mean_escaped_Gen4</th>\n",
       "      <th>mean_precip</th>\n",
       "      <th>mean_gdd</th>\n",
       "      <th>treatment</th>\n",
       "      <th>ClimateScenario</th>\n",
       "    </tr>\n",
       "  </thead>\n",
       "  <tbody>\n",
       "    <tr>\n",
       "      <th>0</th>\n",
       "      <td>1979</td>\n",
       "      <td>32.46875_-109.90625</td>\n",
       "      <td>68</td>\n",
       "      <td>2.939262</td>\n",
       "      <td>1.319697</td>\n",
       "      <td>7.080458</td>\n",
       "      <td>1.348167</td>\n",
       "      <td>0.0</td>\n",
       "      <td>300.525</td>\n",
       "      <td>4821.668922</td>\n",
       "      <td>0</td>\n",
       "      <td>observed</td>\n",
       "    </tr>\n",
       "    <tr>\n",
       "      <th>1</th>\n",
       "      <td>1979</td>\n",
       "      <td>32.46875_-109.96875</td>\n",
       "      <td>68</td>\n",
       "      <td>2.946050</td>\n",
       "      <td>1.245847</td>\n",
       "      <td>7.104994</td>\n",
       "      <td>1.396980</td>\n",
       "      <td>0.0</td>\n",
       "      <td>303.925</td>\n",
       "      <td>4831.770062</td>\n",
       "      <td>0</td>\n",
       "      <td>observed</td>\n",
       "    </tr>\n",
       "  </tbody>\n",
       "</table>\n",
       "</div>"
      ],
      "text/plain": [
       "   year             location  medianDoY  NumLarvaGens_Aug  mean_escaped_Gen1  \\\n",
       "0  1979  32.46875_-109.90625         68          2.939262           1.319697   \n",
       "1  1979  32.46875_-109.96875         68          2.946050           1.245847   \n",
       "\n",
       "   mean_escaped_Gen2  mean_escaped_Gen3  mean_escaped_Gen4  mean_precip  \\\n",
       "0           7.080458           1.348167                0.0      300.525   \n",
       "1           7.104994           1.396980                0.0      303.925   \n",
       "\n",
       "      mean_gdd  treatment ClimateScenario  \n",
       "0  4821.668922          0        observed  \n",
       "1  4831.770062          0        observed  "
      ]
     },
     "execution_count": 11,
     "metadata": {},
     "output_type": "execute_result"
    }
   ],
   "source": [
    "all_data_usa.head(2)"
   ]
  },
  {
   "cell_type": "code",
   "execution_count": 12,
   "metadata": {},
   "outputs": [
    {
     "data": {
      "image/png": "[encoded data removed]",
      "text/plain": [
       "<Figure size 576x432 with 1 Axes>"
      ]
     },
     "metadata": {},
     "output_type": "display_data"
    }
   ],
   "source": [
    "one_loc = all_data_usa[all_data_usa['location'] == all_data_usa['location'][3]]\n",
    "one_loc.hist(column=\"mean_gdd\");"
   ]
  },
  {
   "cell_type": "code",
   "execution_count": null,
   "metadata": {},
   "outputs": [],
   "source": [
    "all_data_usa['location'][0:10]"
   ]
  },
  {
   "cell_type": "code",
   "execution_count": null,
   "metadata": {},
   "outputs": [],
   "source": [
    "two_locs = all_data_usa[all_data_usa['location'].isin(all_data_usa['location'][0:20])];\n",
    "two_locs.hist(column=\"mean_gdd\", by='location');"
   ]
  },
  {
   "cell_type": "code",
   "execution_count": null,
   "metadata": {},
   "outputs": [],
   "source": [
    "all_data_usa.hist(column=\"mean_gdd\", by='location');"
   ]
  },
  {
   "cell_type": "code",
   "execution_count": null,
   "metadata": {},
   "outputs": [],
   "source": [
    "all_data_usa.hist(column=\"mean_precip\", by='location');"
   ]
  },
  {
   "cell_type": "code",
   "execution_count": null,
   "metadata": {},
   "outputs": [],
   "source": [
    "(two_locs.location.unique())"
   ]
  },
  {
   "cell_type": "code",
   "execution_count": null,
   "metadata": {},
   "outputs": [],
   "source": []
  },
  {
   "cell_type": "code",
   "execution_count": null,
   "metadata": {},
   "outputs": [],
   "source": [
    "numeric_feat = ['medianDoY', 'NumLarvaGens_Aug', 'mean_escaped_Gen1', 'mean_escaped_Gen2',\n",
    "                    'mean_escaped_Gen3', 'mean_escaped_Gen4', 'mean_precip', 'mean_gdd']\n",
    "two_locs_numeric = two_locs.loc[:, numeric_feat].copy()"
   ]
  },
  {
   "cell_type": "code",
   "execution_count": null,
   "metadata": {},
   "outputs": [],
   "source": [
    "mahalanobis(two_locs_numeric)"
   ]
  },
  {
   "cell_type": "code",
   "execution_count": null,
   "metadata": {},
   "outputs": [],
   "source": []
  },
  {
   "cell_type": "code",
   "execution_count": null,
   "metadata": {},
   "outputs": [],
   "source": [
    "all_data_usa['location'][3]"
   ]
  },
  {
   "cell_type": "code",
   "execution_count": 16,
   "metadata": {},
   "outputs": [],
   "source": [
    "one_loc = all_data_usa[all_data_usa['location'] == all_data_usa['location'][3]]\n",
    "one_loc_numeric = one_loc.loc[:, numeric_feat].copy()"
   ]
  },
  {
   "cell_type": "code",
   "execution_count": null,
   "metadata": {},
   "outputs": [],
   "source": [
    "cov_mat = one_loc_numeric.cov()\n",
    "cov_mat_inv = pd.DataFrame(np.linalg.pinv(cov_mat.values), cov_mat.columns, cov_mat.index)\n",
    "distance.mahalanobis(two_locs_numeric.iloc[0], two_locs_numeric.iloc[1], cov_mat_inv)"
   ]
  },
  {
   "cell_type": "code",
   "execution_count": null,
   "metadata": {},
   "outputs": [],
   "source": [
    "cov_mat_inv.head(2)"
   ]
  },
  {
   "cell_type": "code",
   "execution_count": null,
   "metadata": {},
   "outputs": [],
   "source": [
    "cov_mat.head()"
   ]
  },
  {
   "cell_type": "code",
   "execution_count": 22,
   "metadata": {},
   "outputs": [],
   "source": [
    "\n",
    "# robust_cov = MinCovDet().fit(one_loc_numeric)\n"
   ]
  },
  {
   "cell_type": "code",
   "execution_count": null,
   "metadata": {},
   "outputs": [],
   "source": [
    ".mahalanobis(two_locs_numeric)"
   ]
  },
  {
   "cell_type": "code",
   "execution_count": 26,
   "metadata": {},
   "outputs": [],
   "source": [
    "# the following two are the same\n",
    "# emp_cov = EmpiricalCovariance(assume_centered=False).fit(one_loc_numeric)\n",
    "cov1 = sklearn.covariance.empirical_covariance(one_loc_numeric, assume_centered=False)"
   ]
  },
  {
   "cell_type": "code",
   "execution_count": 18,
   "metadata": {},
   "outputs": [],
   "source": [
    "cov_mat = one_loc_numeric.cov()"
   ]
  },
  {
   "cell_type": "code",
   "execution_count": 19,
   "metadata": {},
   "outputs": [
    {
     "data": {
      "text/html": [
       "<div>\n",
       "<style scoped>\n",
       "    .dataframe tbody tr th:only-of-type {\n",
       "        vertical-align: middle;\n",
       "    }\n",
       "\n",
       "    .dataframe tbody tr th {\n",
       "        vertical-align: top;\n",
       "    }\n",
       "\n",
       "    .dataframe thead th {\n",
       "        text-align: right;\n",
       "    }\n",
       "</style>\n",
       "<table border=\"1\" class=\"dataframe\">\n",
       "  <thead>\n",
       "    <tr style=\"text-align: right;\">\n",
       "      <th></th>\n",
       "      <th>medianDoY</th>\n",
       "      <th>NumLarvaGens_Aug</th>\n",
       "      <th>mean_escaped_Gen1</th>\n",
       "      <th>mean_escaped_Gen2</th>\n",
       "      <th>mean_escaped_Gen3</th>\n",
       "      <th>mean_escaped_Gen4</th>\n",
       "      <th>mean_precip</th>\n",
       "      <th>mean_gdd</th>\n",
       "    </tr>\n",
       "  </thead>\n",
       "  <tbody>\n",
       "    <tr>\n",
       "      <th>medianDoY</th>\n",
       "      <td>89.966967</td>\n",
       "      <td>-0.497214</td>\n",
       "      <td>7.959176</td>\n",
       "      <td>-2.734734</td>\n",
       "      <td>-1.778149</td>\n",
       "      <td>0.0</td>\n",
       "      <td>-178.902665</td>\n",
       "      <td>-372.218799</td>\n",
       "    </tr>\n",
       "    <tr>\n",
       "      <th>NumLarvaGens_Aug</th>\n",
       "      <td>-0.497214</td>\n",
       "      <td>0.051314</td>\n",
       "      <td>-0.227882</td>\n",
       "      <td>0.225695</td>\n",
       "      <td>0.153484</td>\n",
       "      <td>0.0</td>\n",
       "      <td>-34.078361</td>\n",
       "      <td>50.435823</td>\n",
       "    </tr>\n",
       "    <tr>\n",
       "      <th>mean_escaped_Gen1</th>\n",
       "      <td>7.959176</td>\n",
       "      <td>-0.227882</td>\n",
       "      <td>1.844587</td>\n",
       "      <td>-1.191666</td>\n",
       "      <td>-0.729027</td>\n",
       "      <td>0.0</td>\n",
       "      <td>82.063865</td>\n",
       "      <td>-218.746729</td>\n",
       "    </tr>\n",
       "    <tr>\n",
       "      <th>mean_escaped_Gen2</th>\n",
       "      <td>-2.734734</td>\n",
       "      <td>0.225695</td>\n",
       "      <td>-1.191666</td>\n",
       "      <td>1.221550</td>\n",
       "      <td>0.650004</td>\n",
       "      <td>0.0</td>\n",
       "      <td>-150.634884</td>\n",
       "      <td>227.090713</td>\n",
       "    </tr>\n",
       "    <tr>\n",
       "      <th>mean_escaped_Gen3</th>\n",
       "      <td>-1.778149</td>\n",
       "      <td>0.153484</td>\n",
       "      <td>-0.729027</td>\n",
       "      <td>0.650004</td>\n",
       "      <td>0.528542</td>\n",
       "      <td>0.0</td>\n",
       "      <td>-74.831000</td>\n",
       "      <td>152.210046</td>\n",
       "    </tr>\n",
       "    <tr>\n",
       "      <th>mean_escaped_Gen4</th>\n",
       "      <td>0.000000</td>\n",
       "      <td>0.000000</td>\n",
       "      <td>0.000000</td>\n",
       "      <td>0.000000</td>\n",
       "      <td>0.000000</td>\n",
       "      <td>0.0</td>\n",
       "      <td>0.000000</td>\n",
       "      <td>0.000000</td>\n",
       "    </tr>\n",
       "    <tr>\n",
       "      <th>mean_precip</th>\n",
       "      <td>-178.902665</td>\n",
       "      <td>-34.078361</td>\n",
       "      <td>82.063865</td>\n",
       "      <td>-150.634884</td>\n",
       "      <td>-74.831000</td>\n",
       "      <td>0.0</td>\n",
       "      <td>118121.824799</td>\n",
       "      <td>-31709.717167</td>\n",
       "    </tr>\n",
       "    <tr>\n",
       "      <th>mean_gdd</th>\n",
       "      <td>-372.218799</td>\n",
       "      <td>50.435823</td>\n",
       "      <td>-218.746729</td>\n",
       "      <td>227.090713</td>\n",
       "      <td>152.210046</td>\n",
       "      <td>0.0</td>\n",
       "      <td>-31709.717167</td>\n",
       "      <td>59929.229252</td>\n",
       "    </tr>\n",
       "  </tbody>\n",
       "</table>\n",
       "</div>"
      ],
      "text/plain": [
       "                    medianDoY  NumLarvaGens_Aug  mean_escaped_Gen1  \\\n",
       "medianDoY           89.966967         -0.497214           7.959176   \n",
       "NumLarvaGens_Aug    -0.497214          0.051314          -0.227882   \n",
       "mean_escaped_Gen1    7.959176         -0.227882           1.844587   \n",
       "mean_escaped_Gen2   -2.734734          0.225695          -1.191666   \n",
       "mean_escaped_Gen3   -1.778149          0.153484          -0.729027   \n",
       "mean_escaped_Gen4    0.000000          0.000000           0.000000   \n",
       "mean_precip       -178.902665        -34.078361          82.063865   \n",
       "mean_gdd          -372.218799         50.435823        -218.746729   \n",
       "\n",
       "                   mean_escaped_Gen2  mean_escaped_Gen3  mean_escaped_Gen4  \\\n",
       "medianDoY                  -2.734734          -1.778149                0.0   \n",
       "NumLarvaGens_Aug            0.225695           0.153484                0.0   \n",
       "mean_escaped_Gen1          -1.191666          -0.729027                0.0   \n",
       "mean_escaped_Gen2           1.221550           0.650004                0.0   \n",
       "mean_escaped_Gen3           0.650004           0.528542                0.0   \n",
       "mean_escaped_Gen4           0.000000           0.000000                0.0   \n",
       "mean_precip              -150.634884         -74.831000                0.0   \n",
       "mean_gdd                  227.090713         152.210046                0.0   \n",
       "\n",
       "                     mean_precip      mean_gdd  \n",
       "medianDoY            -178.902665   -372.218799  \n",
       "NumLarvaGens_Aug      -34.078361     50.435823  \n",
       "mean_escaped_Gen1      82.063865   -218.746729  \n",
       "mean_escaped_Gen2    -150.634884    227.090713  \n",
       "mean_escaped_Gen3     -74.831000    152.210046  \n",
       "mean_escaped_Gen4       0.000000      0.000000  \n",
       "mean_precip        118121.824799 -31709.717167  \n",
       "mean_gdd           -31709.717167  59929.229252  "
      ]
     },
     "execution_count": 19,
     "metadata": {},
     "output_type": "execute_result"
    }
   ],
   "source": [
    "cov_mat"
   ]
  },
  {
   "cell_type": "code",
   "execution_count": null,
   "metadata": {},
   "outputs": [],
   "source": []
  },
  {
   "cell_type": "code",
   "execution_count": null,
   "metadata": {},
   "outputs": [],
   "source": []
  }
 ],
 "metadata": {
  "kernelspec": {
   "display_name": "Python 3",
   "language": "python",
   "name": "python3"
  },
  "language_info": {
   "codemirror_mode": {
    "name": "ipython",
    "version": 3
   },
   "file_extension": ".py",
   "mimetype": "text/x-python",
   "name": "python",
   "nbconvert_exporter": "python",
   "pygments_lexer": "ipython3",
   "version": "3.6.8"
  }
 },
 "nbformat": 4,
 "nbformat_minor": 2
}
