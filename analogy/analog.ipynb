{
 "cells": [
  {
   "cell_type": "code",
   "execution_count": 13,
   "metadata": {},
   "outputs": [],
   "source": [
    "import numpy as np\n",
    "import pandas as pd\n",
    "from sklearn import preprocessing"
   ]
  },
  {
   "cell_type": "code",
   "execution_count": 246,
   "metadata": {},
   "outputs": [],
   "source": [
    "in_dir = \"/Users/hn/Desktop/Desktop/Kirti/check_point/analogs/\"\n",
    "out_dir = \"/Users/hn/Desktop/\""
   ]
  },
  {
   "cell_type": "code",
   "execution_count": 244,
   "metadata": {},
   "outputs": [],
   "source": [
    "all_data_usa = pd.read_csv(in_dir + \"all_data_usa.csv\") \n",
    "avg_rcp45 = pd.read_csv(in_dir + \"averaged_data_rcp45.csv\") "
   ]
  },
  {
   "cell_type": "code",
   "execution_count": 245,
   "metadata": {},
   "outputs": [
    {
     "data": {
      "text/html": [
       "<div>\n",
       "<style scoped>\n",
       "    .dataframe tbody tr th:only-of-type {\n",
       "        vertical-align: middle;\n",
       "    }\n",
       "\n",
       "    .dataframe tbody tr th {\n",
       "        vertical-align: top;\n",
       "    }\n",
       "\n",
       "    .dataframe thead th {\n",
       "        text-align: right;\n",
       "    }\n",
       "</style>\n",
       "<table border=\"1\" class=\"dataframe\">\n",
       "  <thead>\n",
       "    <tr style=\"text-align: right;\">\n",
       "      <th></th>\n",
       "      <th>year</th>\n",
       "      <th>location</th>\n",
       "      <th>medianDoY</th>\n",
       "      <th>NumLarvaGens_Aug</th>\n",
       "      <th>mean_escaped_Gen1</th>\n",
       "      <th>mean_escaped_Gen2</th>\n",
       "      <th>mean_escaped_Gen3</th>\n",
       "      <th>mean_escaped_Gen4</th>\n",
       "      <th>mean_precip</th>\n",
       "      <th>mean_gdd</th>\n",
       "      <th>treatment</th>\n",
       "      <th>ClimateScenario</th>\n",
       "    </tr>\n",
       "  </thead>\n",
       "  <tbody>\n",
       "    <tr>\n",
       "      <th>0</th>\n",
       "      <td>1979</td>\n",
       "      <td>32.46875_-109.90625</td>\n",
       "      <td>68</td>\n",
       "      <td>2.939262</td>\n",
       "      <td>1.319697</td>\n",
       "      <td>7.080458</td>\n",
       "      <td>1.348167</td>\n",
       "      <td>0.0</td>\n",
       "      <td>300.525</td>\n",
       "      <td>4821.668922</td>\n",
       "      <td>0</td>\n",
       "      <td>observed</td>\n",
       "    </tr>\n",
       "    <tr>\n",
       "      <th>1</th>\n",
       "      <td>1979</td>\n",
       "      <td>32.46875_-109.96875</td>\n",
       "      <td>68</td>\n",
       "      <td>2.946050</td>\n",
       "      <td>1.245847</td>\n",
       "      <td>7.104994</td>\n",
       "      <td>1.396980</td>\n",
       "      <td>0.0</td>\n",
       "      <td>303.925</td>\n",
       "      <td>4831.770062</td>\n",
       "      <td>0</td>\n",
       "      <td>observed</td>\n",
       "    </tr>\n",
       "  </tbody>\n",
       "</table>\n",
       "</div>"
      ],
      "text/plain": [
       "   year             location  medianDoY  NumLarvaGens_Aug  mean_escaped_Gen1  \\\n",
       "0  1979  32.46875_-109.90625         68          2.939262           1.319697   \n",
       "1  1979  32.46875_-109.96875         68          2.946050           1.245847   \n",
       "\n",
       "   mean_escaped_Gen2  mean_escaped_Gen3  mean_escaped_Gen4  mean_precip  \\\n",
       "0           7.080458           1.348167                0.0      300.525   \n",
       "1           7.104994           1.396980                0.0      303.925   \n",
       "\n",
       "      mean_gdd  treatment ClimateScenario  \n",
       "0  4821.668922          0        observed  \n",
       "1  4831.770062          0        observed  "
      ]
     },
     "execution_count": 245,
     "metadata": {},
     "output_type": "execute_result"
    }
   ],
   "source": [
    "all_data_usa.head(2)"
   ]
  },
  {
   "cell_type": "code",
   "execution_count": 88,
   "metadata": {},
   "outputs": [
    {
     "data": {
      "text/html": [
       "<div>\n",
       "<style scoped>\n",
       "    .dataframe tbody tr th:only-of-type {\n",
       "        vertical-align: middle;\n",
       "    }\n",
       "\n",
       "    .dataframe tbody tr th {\n",
       "        vertical-align: top;\n",
       "    }\n",
       "\n",
       "    .dataframe thead th {\n",
       "        text-align: right;\n",
       "    }\n",
       "</style>\n",
       "<table border=\"1\" class=\"dataframe\">\n",
       "  <thead>\n",
       "    <tr style=\"text-align: right;\">\n",
       "      <th></th>\n",
       "      <th>year</th>\n",
       "      <th>location</th>\n",
       "      <th>medianDoY</th>\n",
       "      <th>NumLarvaGens_Aug</th>\n",
       "      <th>mean_escaped_Gen1</th>\n",
       "      <th>mean_escaped_Gen2</th>\n",
       "      <th>mean_escaped_Gen3</th>\n",
       "      <th>mean_escaped_Gen4</th>\n",
       "      <th>mean_precip</th>\n",
       "      <th>mean_gdd</th>\n",
       "      <th>treatment</th>\n",
       "      <th>ClimateScenario</th>\n",
       "    </tr>\n",
       "  </thead>\n",
       "  <tbody>\n",
       "    <tr>\n",
       "      <th>0</th>\n",
       "      <td>2026</td>\n",
       "      <td>43.53125_-116.59375</td>\n",
       "      <td>92</td>\n",
       "      <td>2.352305</td>\n",
       "      <td>23.368053</td>\n",
       "      <td>27.85959</td>\n",
       "      <td>3.009202</td>\n",
       "      <td>0.025247</td>\n",
       "      <td>268.491667</td>\n",
       "      <td>3669.118839</td>\n",
       "      <td>1</td>\n",
       "      <td>ensembe_mean</td>\n",
       "    </tr>\n",
       "    <tr>\n",
       "      <th>1</th>\n",
       "      <td>2026</td>\n",
       "      <td>43.59375_-116.78125</td>\n",
       "      <td>92</td>\n",
       "      <td>2.336201</td>\n",
       "      <td>24.035184</td>\n",
       "      <td>27.50817</td>\n",
       "      <td>2.912981</td>\n",
       "      <td>0.027137</td>\n",
       "      <td>260.750000</td>\n",
       "      <td>3623.723188</td>\n",
       "      <td>1</td>\n",
       "      <td>ensembe_mean</td>\n",
       "    </tr>\n",
       "  </tbody>\n",
       "</table>\n",
       "</div>"
      ],
      "text/plain": [
       "   year             location  medianDoY  NumLarvaGens_Aug  mean_escaped_Gen1  \\\n",
       "0  2026  43.53125_-116.59375         92          2.352305          23.368053   \n",
       "1  2026  43.59375_-116.78125         92          2.336201          24.035184   \n",
       "\n",
       "   mean_escaped_Gen2  mean_escaped_Gen3  mean_escaped_Gen4  mean_precip  \\\n",
       "0           27.85959           3.009202           0.025247   268.491667   \n",
       "1           27.50817           2.912981           0.027137   260.750000   \n",
       "\n",
       "      mean_gdd  treatment ClimateScenario  \n",
       "0  3669.118839          1    ensembe_mean  \n",
       "1  3623.723188          1    ensembe_mean  "
      ]
     },
     "execution_count": 88,
     "metadata": {},
     "output_type": "execute_result"
    }
   ],
   "source": [
    "avg_rcp45.head(2)"
   ]
  },
  {
   "cell_type": "markdown",
   "metadata": {},
   "source": [
    "## Append\n",
    "\n",
    "  - First append the needed treated unit to all historical/control units so we can find nearest locations.\n",
    "  - Then take numeric part of the data to be able to operate on them.\n",
    "        - normalize\n",
    "        - find distances\n",
    "  - add the distances back to the data frame.\n",
    "  - sort the data frame according to distances."
   ]
  },
  {
   "cell_type": "code",
   "execution_count": 208,
   "metadata": {},
   "outputs": [],
   "source": [
    "one_site = avg_rcp45.iloc[0, :].copy()\n",
    "dt = all_data_usa.append(one_site)"
   ]
  },
  {
   "cell_type": "markdown",
   "metadata": {},
   "source": [
    "#### Take the numerical values so we can work with them, normalize them, compute KNNs"
   ]
  },
  {
   "cell_type": "code",
   "execution_count": 209,
   "metadata": {},
   "outputs": [],
   "source": [
    "dt_numeric = dt.drop(['year', 'location', 'treatment', 'ClimateScenario'], axis=1).copy()"
   ]
  },
  {
   "cell_type": "code",
   "execution_count": 210,
   "metadata": {},
   "outputs": [
    {
     "data": {
      "text/html": [
       "<div>\n",
       "<style scoped>\n",
       "    .dataframe tbody tr th:only-of-type {\n",
       "        vertical-align: middle;\n",
       "    }\n",
       "\n",
       "    .dataframe tbody tr th {\n",
       "        vertical-align: top;\n",
       "    }\n",
       "\n",
       "    .dataframe thead th {\n",
       "        text-align: right;\n",
       "    }\n",
       "</style>\n",
       "<table border=\"1\" class=\"dataframe\">\n",
       "  <thead>\n",
       "    <tr style=\"text-align: right;\">\n",
       "      <th></th>\n",
       "      <th>medianDoY</th>\n",
       "      <th>NumLarvaGens_Aug</th>\n",
       "      <th>mean_escaped_Gen1</th>\n",
       "      <th>mean_escaped_Gen2</th>\n",
       "      <th>mean_escaped_Gen3</th>\n",
       "      <th>mean_escaped_Gen4</th>\n",
       "      <th>mean_precip</th>\n",
       "      <th>mean_gdd</th>\n",
       "    </tr>\n",
       "  </thead>\n",
       "  <tbody>\n",
       "    <tr>\n",
       "      <th>47840</th>\n",
       "      <td>119</td>\n",
       "      <td>2.060168</td>\n",
       "      <td>81.778861</td>\n",
       "      <td>45.945466</td>\n",
       "      <td>0.552418</td>\n",
       "      <td>0.000000</td>\n",
       "      <td>286.150000</td>\n",
       "      <td>2970.529512</td>\n",
       "    </tr>\n",
       "    <tr>\n",
       "      <th>0</th>\n",
       "      <td>92</td>\n",
       "      <td>2.352305</td>\n",
       "      <td>23.368053</td>\n",
       "      <td>27.859590</td>\n",
       "      <td>3.009202</td>\n",
       "      <td>0.025247</td>\n",
       "      <td>268.491667</td>\n",
       "      <td>3669.118839</td>\n",
       "    </tr>\n",
       "  </tbody>\n",
       "</table>\n",
       "</div>"
      ],
      "text/plain": [
       "       medianDoY  NumLarvaGens_Aug  mean_escaped_Gen1  mean_escaped_Gen2  \\\n",
       "47840        119          2.060168          81.778861          45.945466   \n",
       "0             92          2.352305          23.368053          27.859590   \n",
       "\n",
       "       mean_escaped_Gen3  mean_escaped_Gen4  mean_precip     mean_gdd  \n",
       "47840           0.552418           0.000000   286.150000  2970.529512  \n",
       "0               3.009202           0.025247   268.491667  3669.118839  "
      ]
     },
     "execution_count": 210,
     "metadata": {},
     "output_type": "execute_result"
    }
   ],
   "source": [
    "dt_numeric.tail(2)"
   ]
  },
  {
   "cell_type": "markdown",
   "metadata": {},
   "source": [
    "### Normalize data"
   ]
  },
  {
   "cell_type": "code",
   "execution_count": 211,
   "metadata": {},
   "outputs": [],
   "source": [
    "x = dt_numeric.values\n",
    "min_max_scaler = preprocessing.MinMaxScaler()\n",
    "x_scaled = min_max_scaler.fit_transform(x)\n",
    "normalized_dt = pd.DataFrame(x_scaled)"
   ]
  },
  {
   "cell_type": "code",
   "execution_count": 219,
   "metadata": {},
   "outputs": [
    {
     "data": {
      "text/html": [
       "<div>\n",
       "<style scoped>\n",
       "    .dataframe tbody tr th:only-of-type {\n",
       "        vertical-align: middle;\n",
       "    }\n",
       "\n",
       "    .dataframe tbody tr th {\n",
       "        vertical-align: top;\n",
       "    }\n",
       "\n",
       "    .dataframe thead th {\n",
       "        text-align: right;\n",
       "    }\n",
       "</style>\n",
       "<table border=\"1\" class=\"dataframe\">\n",
       "  <thead>\n",
       "    <tr style=\"text-align: right;\">\n",
       "      <th></th>\n",
       "      <th>0</th>\n",
       "      <th>1</th>\n",
       "      <th>2</th>\n",
       "      <th>3</th>\n",
       "      <th>4</th>\n",
       "      <th>5</th>\n",
       "      <th>6</th>\n",
       "      <th>7</th>\n",
       "    </tr>\n",
       "  </thead>\n",
       "  <tbody>\n",
       "    <tr>\n",
       "      <th>47840</th>\n",
       "      <td>0.636943</td>\n",
       "      <td>0.386943</td>\n",
       "      <td>0.931307</td>\n",
       "      <td>0.700336</td>\n",
       "      <td>0.026941</td>\n",
       "      <td>0.000000</td>\n",
       "      <td>0.095527</td>\n",
       "      <td>0.299025</td>\n",
       "    </tr>\n",
       "    <tr>\n",
       "      <th>47841</th>\n",
       "      <td>0.464968</td>\n",
       "      <td>0.479293</td>\n",
       "      <td>0.266118</td>\n",
       "      <td>0.424657</td>\n",
       "      <td>0.146756</td>\n",
       "      <td>0.006785</td>\n",
       "      <td>0.088829</td>\n",
       "      <td>0.424869</td>\n",
       "    </tr>\n",
       "  </tbody>\n",
       "</table>\n",
       "</div>"
      ],
      "text/plain": [
       "              0         1         2         3         4         5         6  \\\n",
       "47840  0.636943  0.386943  0.931307  0.700336  0.026941  0.000000  0.095527   \n",
       "47841  0.464968  0.479293  0.266118  0.424657  0.146756  0.006785  0.088829   \n",
       "\n",
       "              7  \n",
       "47840  0.299025  \n",
       "47841  0.424869  "
      ]
     },
     "execution_count": 219,
     "metadata": {},
     "output_type": "execute_result"
    }
   ],
   "source": [
    "normalized_dt.tail(2)"
   ]
  },
  {
   "cell_type": "markdown",
   "metadata": {},
   "source": [
    "### compute Euclidean distances \n",
    "Subtract the last row from all other rows to compute distances."
   ]
  },
  {
   "cell_type": "code",
   "execution_count": 213,
   "metadata": {},
   "outputs": [],
   "source": [
    "subtracted = normalized_dt - normalized_dt.iloc[-1, ]"
   ]
  },
  {
   "cell_type": "code",
   "execution_count": 215,
   "metadata": {},
   "outputs": [
    {
     "data": {
      "text/html": [
       "<div>\n",
       "<style scoped>\n",
       "    .dataframe tbody tr th:only-of-type {\n",
       "        vertical-align: middle;\n",
       "    }\n",
       "\n",
       "    .dataframe tbody tr th {\n",
       "        vertical-align: top;\n",
       "    }\n",
       "\n",
       "    .dataframe thead th {\n",
       "        text-align: right;\n",
       "    }\n",
       "</style>\n",
       "<table border=\"1\" class=\"dataframe\">\n",
       "  <thead>\n",
       "    <tr style=\"text-align: right;\">\n",
       "      <th></th>\n",
       "      <th>0</th>\n",
       "      <th>1</th>\n",
       "      <th>2</th>\n",
       "      <th>3</th>\n",
       "      <th>4</th>\n",
       "      <th>5</th>\n",
       "      <th>6</th>\n",
       "      <th>7</th>\n",
       "    </tr>\n",
       "  </thead>\n",
       "  <tbody>\n",
       "    <tr>\n",
       "      <th>0</th>\n",
       "      <td>-0.152866</td>\n",
       "      <td>0.185546</td>\n",
       "      <td>-0.251089</td>\n",
       "      <td>-0.316732</td>\n",
       "      <td>-0.081007</td>\n",
       "      <td>-0.006785</td>\n",
       "      <td>0.012149</td>\n",
       "      <td>0.207621</td>\n",
       "    </tr>\n",
       "    <tr>\n",
       "      <th>1</th>\n",
       "      <td>-0.152866</td>\n",
       "      <td>0.187692</td>\n",
       "      <td>-0.251930</td>\n",
       "      <td>-0.316358</td>\n",
       "      <td>-0.078627</td>\n",
       "      <td>-0.006785</td>\n",
       "      <td>0.013439</td>\n",
       "      <td>0.209440</td>\n",
       "    </tr>\n",
       "  </tbody>\n",
       "</table>\n",
       "</div>"
      ],
      "text/plain": [
       "          0         1         2         3         4         5         6  \\\n",
       "0 -0.152866  0.185546 -0.251089 -0.316732 -0.081007 -0.006785  0.012149   \n",
       "1 -0.152866  0.187692 -0.251930 -0.316358 -0.078627 -0.006785  0.013439   \n",
       "\n",
       "          7  \n",
       "0  0.207621  \n",
       "1  0.209440  "
      ]
     },
     "execution_count": 215,
     "metadata": {},
     "output_type": "execute_result"
    }
   ],
   "source": [
    "subtracted.head(2)"
   ]
  },
  {
   "cell_type": "code",
   "execution_count": 216,
   "metadata": {},
   "outputs": [],
   "source": [
    "distances = np.linalg.norm(subtracted, axis=1, keepdims=True)"
   ]
  },
  {
   "cell_type": "code",
   "execution_count": 217,
   "metadata": {},
   "outputs": [],
   "source": [
    "dt['distances'] = distances\n",
    "dt = dt.sort_values(by=['distances'])"
   ]
  },
  {
   "cell_type": "code",
   "execution_count": 218,
   "metadata": {},
   "outputs": [
    {
     "data": {
      "text/html": [
       "<div>\n",
       "<style scoped>\n",
       "    .dataframe tbody tr th:only-of-type {\n",
       "        vertical-align: middle;\n",
       "    }\n",
       "\n",
       "    .dataframe tbody tr th {\n",
       "        vertical-align: top;\n",
       "    }\n",
       "\n",
       "    .dataframe thead th {\n",
       "        text-align: right;\n",
       "    }\n",
       "</style>\n",
       "<table border=\"1\" class=\"dataframe\">\n",
       "  <thead>\n",
       "    <tr style=\"text-align: right;\">\n",
       "      <th></th>\n",
       "      <th>year</th>\n",
       "      <th>location</th>\n",
       "      <th>medianDoY</th>\n",
       "      <th>NumLarvaGens_Aug</th>\n",
       "      <th>mean_escaped_Gen1</th>\n",
       "      <th>mean_escaped_Gen2</th>\n",
       "      <th>mean_escaped_Gen3</th>\n",
       "      <th>mean_escaped_Gen4</th>\n",
       "      <th>mean_precip</th>\n",
       "      <th>mean_gdd</th>\n",
       "      <th>treatment</th>\n",
       "      <th>ClimateScenario</th>\n",
       "      <th>distances</th>\n",
       "    </tr>\n",
       "  </thead>\n",
       "  <tbody>\n",
       "    <tr>\n",
       "      <th>0</th>\n",
       "      <td>2026</td>\n",
       "      <td>43.53125_-116.59375</td>\n",
       "      <td>92</td>\n",
       "      <td>2.352305</td>\n",
       "      <td>23.368053</td>\n",
       "      <td>27.859590</td>\n",
       "      <td>3.009202</td>\n",
       "      <td>0.025247</td>\n",
       "      <td>268.491667</td>\n",
       "      <td>3669.118839</td>\n",
       "      <td>1</td>\n",
       "      <td>ensembe_mean</td>\n",
       "      <td>0.000000</td>\n",
       "    </tr>\n",
       "    <tr>\n",
       "      <th>37049</th>\n",
       "      <td>2007</td>\n",
       "      <td>43.53125_-116.78125</td>\n",
       "      <td>96</td>\n",
       "      <td>2.344302</td>\n",
       "      <td>26.196502</td>\n",
       "      <td>31.237424</td>\n",
       "      <td>2.176265</td>\n",
       "      <td>0.000000</td>\n",
       "      <td>185.725000</td>\n",
       "      <td>3513.329901</td>\n",
       "      <td>0</td>\n",
       "      <td>observed</td>\n",
       "      <td>0.088392</td>\n",
       "    </tr>\n",
       "    <tr>\n",
       "      <th>20240</th>\n",
       "      <td>1994</td>\n",
       "      <td>43.53125_-116.78125</td>\n",
       "      <td>99</td>\n",
       "      <td>2.284805</td>\n",
       "      <td>25.017968</td>\n",
       "      <td>27.828322</td>\n",
       "      <td>1.544439</td>\n",
       "      <td>0.000000</td>\n",
       "      <td>220.825000</td>\n",
       "      <td>3547.658606</td>\n",
       "      <td>0</td>\n",
       "      <td>observed</td>\n",
       "      <td>0.093547</td>\n",
       "    </tr>\n",
       "    <tr>\n",
       "      <th>37055</th>\n",
       "      <td>2007</td>\n",
       "      <td>43.59375_-116.84375</td>\n",
       "      <td>96</td>\n",
       "      <td>2.327640</td>\n",
       "      <td>26.807480</td>\n",
       "      <td>31.149851</td>\n",
       "      <td>2.006078</td>\n",
       "      <td>0.000000</td>\n",
       "      <td>181.925000</td>\n",
       "      <td>3490.173473</td>\n",
       "      <td>0</td>\n",
       "      <td>observed</td>\n",
       "      <td>0.096518</td>\n",
       "    </tr>\n",
       "    <tr>\n",
       "      <th>17659</th>\n",
       "      <td>1992</td>\n",
       "      <td>43.59375_-116.78125</td>\n",
       "      <td>91</td>\n",
       "      <td>2.331342</td>\n",
       "      <td>20.596046</td>\n",
       "      <td>31.195072</td>\n",
       "      <td>1.578679</td>\n",
       "      <td>0.000000</td>\n",
       "      <td>188.325000</td>\n",
       "      <td>3526.934183</td>\n",
       "      <td>0</td>\n",
       "      <td>observed</td>\n",
       "      <td>0.100795</td>\n",
       "    </tr>\n",
       "  </tbody>\n",
       "</table>\n",
       "</div>"
      ],
      "text/plain": [
       "       year             location  medianDoY  NumLarvaGens_Aug  \\\n",
       "0      2026  43.53125_-116.59375         92          2.352305   \n",
       "37049  2007  43.53125_-116.78125         96          2.344302   \n",
       "20240  1994  43.53125_-116.78125         99          2.284805   \n",
       "37055  2007  43.59375_-116.84375         96          2.327640   \n",
       "17659  1992  43.59375_-116.78125         91          2.331342   \n",
       "\n",
       "       mean_escaped_Gen1  mean_escaped_Gen2  mean_escaped_Gen3  \\\n",
       "0              23.368053          27.859590           3.009202   \n",
       "37049          26.196502          31.237424           2.176265   \n",
       "20240          25.017968          27.828322           1.544439   \n",
       "37055          26.807480          31.149851           2.006078   \n",
       "17659          20.596046          31.195072           1.578679   \n",
       "\n",
       "       mean_escaped_Gen4  mean_precip     mean_gdd  treatment ClimateScenario  \\\n",
       "0               0.025247   268.491667  3669.118839          1    ensembe_mean   \n",
       "37049           0.000000   185.725000  3513.329901          0        observed   \n",
       "20240           0.000000   220.825000  3547.658606          0        observed   \n",
       "37055           0.000000   181.925000  3490.173473          0        observed   \n",
       "17659           0.000000   188.325000  3526.934183          0        observed   \n",
       "\n",
       "       distances  \n",
       "0       0.000000  \n",
       "37049   0.088392  \n",
       "20240   0.093547  \n",
       "37055   0.096518  \n",
       "17659   0.100795  "
      ]
     },
     "execution_count": 218,
     "metadata": {},
     "output_type": "execute_result"
    }
   ],
   "source": [
    "dt.head(2)"
   ]
  },
  {
   "cell_type": "code",
   "execution_count": 232,
   "metadata": {},
   "outputs": [
    {
     "data": {
      "text/plain": [
       "'43.53125_-116.59375_2026.csv'"
      ]
     },
     "execution_count": 232,
     "metadata": {},
     "output_type": "execute_result"
    }
   ],
   "source": [
    "out_name = one_site['location'] + '_' + str(one_site['year']) + \".csv\"\n",
    "out_name"
   ]
  },
  {
   "cell_type": "code",
   "execution_count": 247,
   "metadata": {},
   "outputs": [],
   "source": [
    "dt.to_csv(out_dir + out_name, sep='\\t')"
   ]
  },
  {
   "cell_type": "code",
   "execution_count": null,
   "metadata": {},
   "outputs": [],
   "source": []
  },
  {
   "cell_type": "code",
   "execution_count": null,
   "metadata": {},
   "outputs": [],
   "source": []
  },
  {
   "cell_type": "code",
   "execution_count": null,
   "metadata": {},
   "outputs": [],
   "source": []
  }
 ],
 "metadata": {
  "kernelspec": {
   "display_name": "Python 3",
   "language": "python",
   "name": "python3"
  },
  "language_info": {
   "codemirror_mode": {
    "name": "ipython",
    "version": 3
   },
   "file_extension": ".py",
   "mimetype": "text/x-python",
   "name": "python",
   "nbconvert_exporter": "python",
   "pygments_lexer": "ipython3",
   "version": "3.6.8"
  }
 },
 "nbformat": 4,
 "nbformat_minor": 2
}
